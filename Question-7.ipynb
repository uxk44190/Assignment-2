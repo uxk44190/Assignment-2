{
 "cells": [
  {
   "cell_type": "code",
   "execution_count": 1,
   "id": "6ed2cca5-16c1-41e1-b401-7bdbbbe8f2a0",
   "metadata": {},
   "outputs": [
    {
     "name": "stdout",
     "output_type": "stream",
     "text": [
      "Depth=1\n",
      " Train Accuracy: 0.6476190476190476\n",
      " Test Accuracy : 0.7111111111111111\n",
      "\n",
      "Underfitting: Shallow trees (e.g., depth=1) cannot capture complex patterns → both training & test accuracy are low.\n",
      "Overfitting: Very deep trees fit training perfectly but generalize poorly (low test accuracy).\n",
      "Depth=2\n",
      " Train Accuracy: 0.9428571428571428\n",
      " Test Accuracy : 0.9777777777777777\n",
      "\n",
      "Underfitting: Shallow trees (e.g., depth=1) cannot capture complex patterns → both training & test accuracy are low.\n",
      "Overfitting: Very deep trees fit training perfectly but generalize poorly (low test accuracy).\n",
      "Depth=3\n",
      " Train Accuracy: 0.9523809523809523\n",
      " Test Accuracy : 1.0\n",
      "\n",
      "Underfitting: Shallow trees (e.g., depth=1) cannot capture complex patterns → both training & test accuracy are low.\n",
      "Overfitting: Very deep trees fit training perfectly but generalize poorly (low test accuracy).\n"
     ]
    }
   ],
   "source": [
    "from sklearn.datasets import load_iris\n",
    "from sklearn.model_selection import train_test_split\n",
    "from sklearn.tree import DecisionTreeClassifier\n",
    "from sklearn.metrics import accuracy_score\n",
    "\n",
    "# Load dataset\n",
    "iris = load_iris()\n",
    "X, y = iris.data, iris.target\n",
    "X_train, X_test, y_train, y_test = train_test_split(X, y, test_size=0.3, random_state=42)\n",
    "\n",
    "# Train Decision Trees with different depths\n",
    "for depth in [1, 2, 3]:\n",
    "    clf = DecisionTreeClassifier(max_depth=depth, random_state=42)\n",
    "    clf.fit(X_train, y_train)\n",
    "\n",
    "    y_train_pred = clf.predict(X_train)\n",
    "    y_test_pred = clf.predict(X_test)\n",
    "\n",
    "    print(f\"Depth={depth}\")\n",
    "    print(\" Train Accuracy:\", accuracy_score(y_train, y_train_pred))\n",
    "    print(\" Test Accuracy :\", accuracy_score(y_test, y_test_pred))\n",
    "    print()\n",
    "    print(\"Underfitting: Shallow trees (e.g., depth=1) cannot capture complex patterns → both training & test accuracy are low.\")\n",
    "    print(\"Overfitting: Very deep trees fit training perfectly but generalize poorly (low test accuracy).\")\n"
   ]
  },
  {
   "cell_type": "code",
   "execution_count": null,
   "id": "ea6c3156-b0fd-4336-9665-4fd553b3e8d8",
   "metadata": {},
   "outputs": [],
   "source": []
  }
 ],
 "metadata": {
  "kernelspec": {
   "display_name": "Python [conda env:base] *",
   "language": "python",
   "name": "conda-base-py"
  },
  "language_info": {
   "codemirror_mode": {
    "name": "ipython",
    "version": 3
   },
   "file_extension": ".py",
   "mimetype": "text/x-python",
   "name": "python",
   "nbconvert_exporter": "python",
   "pygments_lexer": "ipython3",
   "version": "3.13.5"
  }
 },
 "nbformat": 4,
 "nbformat_minor": 5
}
